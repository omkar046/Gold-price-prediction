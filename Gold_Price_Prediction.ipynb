{
  "nbformat": 4,
  "nbformat_minor": 0,
  "metadata": {
    "colab": {
      "name": "Gold Price Prediction.ipynb",
      "provenance": [],
      "collapsed_sections": [],
      "mount_file_id": "1Yd2kUxOwbHmOturFDUrKAKosHbXyYcVo",
      "authorship_tag": "ABX9TyPc39XNBznCilMB/2mWaVtV",
      "include_colab_link": true
    },
    "kernelspec": {
      "name": "python3",
      "display_name": "Python 3"
    },
    "language_info": {
      "name": "python"
    }
  },
  "cells": [
    {
      "cell_type": "markdown",
      "metadata": {
        "id": "view-in-github",
        "colab_type": "text"
      },
      "source": [
        "<a href=\"https://colab.research.google.com/github/omkar046/Gold-price-prediction/blob/main/Gold_Price_Prediction.ipynb\" target=\"_parent\"><img src=\"https://colab.research.google.com/assets/colab-badge.svg\" alt=\"Open In Colab\"/></a>"
      ]
    },
    {
      "cell_type": "markdown",
      "metadata": {
        "id": "NAxZcPD7O1XQ"
      },
      "source": [
        "##**Importing the Packages**"
      ]
    },
    {
      "cell_type": "code",
      "metadata": {
        "id": "3T71OnhPOMwB"
      },
      "source": [
        "import numpy as np\n",
        "import pandas as pd\n",
        "import matplotlib.pyplot as plt\n",
        "import seaborn as sns\n",
        "from sklearn.model_selection import train_test_split\n",
        "from sklearn.ensemble import RandomForestRegressor\n",
        "from sklearn import metrics"
      ],
      "execution_count": null,
      "outputs": []
    },
    {
      "cell_type": "markdown",
      "metadata": {
        "id": "k7P9WPB2PHQ-"
      },
      "source": [
        "##**Data Collection and Processing**"
      ]
    },
    {
      "cell_type": "code",
      "metadata": {
        "id": "vhf91bcCPJ3G"
      },
      "source": [
        "gold_data = pd.read_csv('/content/drive/MyDrive/Omkar/Resume/goldprediction')"
      ],
      "execution_count": null,
      "outputs": []
    },
    {
      "cell_type": "code",
      "metadata": {
        "id": "_zXAQRhiVgPY",
        "colab": {
          "base_uri": "https://localhost:8080/",
          "height": 204
        },
        "outputId": "616e59e9-6d4f-4df0-f9db-84d73e2ab5da"
      },
      "source": [
        "gold_data.head()"
      ],
      "execution_count": null,
      "outputs": [
        {
          "output_type": "execute_result",
          "data": {
            "text/html": [
              "<div>\n",
              "<style scoped>\n",
              "    .dataframe tbody tr th:only-of-type {\n",
              "        vertical-align: middle;\n",
              "    }\n",
              "\n",
              "    .dataframe tbody tr th {\n",
              "        vertical-align: top;\n",
              "    }\n",
              "\n",
              "    .dataframe thead th {\n",
              "        text-align: right;\n",
              "    }\n",
              "</style>\n",
              "<table border=\"1\" class=\"dataframe\">\n",
              "  <thead>\n",
              "    <tr style=\"text-align: right;\">\n",
              "      <th></th>\n",
              "      <th>Date</th>\n",
              "      <th>SPX</th>\n",
              "      <th>GLD</th>\n",
              "      <th>USO</th>\n",
              "      <th>SLV</th>\n",
              "      <th>EUR/USD</th>\n",
              "    </tr>\n",
              "  </thead>\n",
              "  <tbody>\n",
              "    <tr>\n",
              "      <th>0</th>\n",
              "      <td>1/2/2008</td>\n",
              "      <td>1447.160034</td>\n",
              "      <td>84.860001</td>\n",
              "      <td>78.470001</td>\n",
              "      <td>15.180</td>\n",
              "      <td>1.471692</td>\n",
              "    </tr>\n",
              "    <tr>\n",
              "      <th>1</th>\n",
              "      <td>1/3/2008</td>\n",
              "      <td>1447.160034</td>\n",
              "      <td>85.570000</td>\n",
              "      <td>78.370003</td>\n",
              "      <td>15.285</td>\n",
              "      <td>1.474491</td>\n",
              "    </tr>\n",
              "    <tr>\n",
              "      <th>2</th>\n",
              "      <td>1/4/2008</td>\n",
              "      <td>1411.630005</td>\n",
              "      <td>85.129997</td>\n",
              "      <td>77.309998</td>\n",
              "      <td>15.167</td>\n",
              "      <td>1.475492</td>\n",
              "    </tr>\n",
              "    <tr>\n",
              "      <th>3</th>\n",
              "      <td>1/7/2008</td>\n",
              "      <td>1416.180054</td>\n",
              "      <td>84.769997</td>\n",
              "      <td>75.500000</td>\n",
              "      <td>15.053</td>\n",
              "      <td>1.468299</td>\n",
              "    </tr>\n",
              "    <tr>\n",
              "      <th>4</th>\n",
              "      <td>1/8/2008</td>\n",
              "      <td>1390.189941</td>\n",
              "      <td>86.779999</td>\n",
              "      <td>76.059998</td>\n",
              "      <td>15.590</td>\n",
              "      <td>1.557099</td>\n",
              "    </tr>\n",
              "  </tbody>\n",
              "</table>\n",
              "</div>"
            ],
            "text/plain": [
              "       Date          SPX        GLD        USO     SLV   EUR/USD\n",
              "0  1/2/2008  1447.160034  84.860001  78.470001  15.180  1.471692\n",
              "1  1/3/2008  1447.160034  85.570000  78.370003  15.285  1.474491\n",
              "2  1/4/2008  1411.630005  85.129997  77.309998  15.167  1.475492\n",
              "3  1/7/2008  1416.180054  84.769997  75.500000  15.053  1.468299\n",
              "4  1/8/2008  1390.189941  86.779999  76.059998  15.590  1.557099"
            ]
          },
          "metadata": {},
          "execution_count": 5
        }
      ]
    },
    {
      "cell_type": "code",
      "metadata": {
        "id": "S4fYtu2bVhfz",
        "colab": {
          "base_uri": "https://localhost:8080/",
          "height": 204
        },
        "outputId": "35d2c35d-6bf7-472b-f586-3233f8440f87"
      },
      "source": [
        "gold_data.tail()"
      ],
      "execution_count": null,
      "outputs": [
        {
          "output_type": "execute_result",
          "data": {
            "text/html": [
              "<div>\n",
              "<style scoped>\n",
              "    .dataframe tbody tr th:only-of-type {\n",
              "        vertical-align: middle;\n",
              "    }\n",
              "\n",
              "    .dataframe tbody tr th {\n",
              "        vertical-align: top;\n",
              "    }\n",
              "\n",
              "    .dataframe thead th {\n",
              "        text-align: right;\n",
              "    }\n",
              "</style>\n",
              "<table border=\"1\" class=\"dataframe\">\n",
              "  <thead>\n",
              "    <tr style=\"text-align: right;\">\n",
              "      <th></th>\n",
              "      <th>Date</th>\n",
              "      <th>SPX</th>\n",
              "      <th>GLD</th>\n",
              "      <th>USO</th>\n",
              "      <th>SLV</th>\n",
              "      <th>EUR/USD</th>\n",
              "    </tr>\n",
              "  </thead>\n",
              "  <tbody>\n",
              "    <tr>\n",
              "      <th>2285</th>\n",
              "      <td>5/8/2018</td>\n",
              "      <td>2671.919922</td>\n",
              "      <td>124.589996</td>\n",
              "      <td>14.0600</td>\n",
              "      <td>15.5100</td>\n",
              "      <td>1.186789</td>\n",
              "    </tr>\n",
              "    <tr>\n",
              "      <th>2286</th>\n",
              "      <td>5/9/2018</td>\n",
              "      <td>2697.790039</td>\n",
              "      <td>124.330002</td>\n",
              "      <td>14.3700</td>\n",
              "      <td>15.5300</td>\n",
              "      <td>1.184722</td>\n",
              "    </tr>\n",
              "    <tr>\n",
              "      <th>2287</th>\n",
              "      <td>5/10/2018</td>\n",
              "      <td>2723.070068</td>\n",
              "      <td>125.180000</td>\n",
              "      <td>14.4100</td>\n",
              "      <td>15.7400</td>\n",
              "      <td>1.191753</td>\n",
              "    </tr>\n",
              "    <tr>\n",
              "      <th>2288</th>\n",
              "      <td>5/14/2018</td>\n",
              "      <td>2730.129883</td>\n",
              "      <td>124.489998</td>\n",
              "      <td>14.3800</td>\n",
              "      <td>15.5600</td>\n",
              "      <td>1.193118</td>\n",
              "    </tr>\n",
              "    <tr>\n",
              "      <th>2289</th>\n",
              "      <td>5/16/2018</td>\n",
              "      <td>2725.780029</td>\n",
              "      <td>122.543800</td>\n",
              "      <td>14.4058</td>\n",
              "      <td>15.4542</td>\n",
              "      <td>1.182033</td>\n",
              "    </tr>\n",
              "  </tbody>\n",
              "</table>\n",
              "</div>"
            ],
            "text/plain": [
              "           Date          SPX         GLD      USO      SLV   EUR/USD\n",
              "2285   5/8/2018  2671.919922  124.589996  14.0600  15.5100  1.186789\n",
              "2286   5/9/2018  2697.790039  124.330002  14.3700  15.5300  1.184722\n",
              "2287  5/10/2018  2723.070068  125.180000  14.4100  15.7400  1.191753\n",
              "2288  5/14/2018  2730.129883  124.489998  14.3800  15.5600  1.193118\n",
              "2289  5/16/2018  2725.780029  122.543800  14.4058  15.4542  1.182033"
            ]
          },
          "metadata": {},
          "execution_count": 6
        }
      ]
    },
    {
      "cell_type": "code",
      "metadata": {
        "id": "B5YAua6gVpCu",
        "colab": {
          "base_uri": "https://localhost:8080/"
        },
        "outputId": "fbd5528c-2b06-4f6f-9371-cc92fd8800f9"
      },
      "source": [
        "gold_data.shape"
      ],
      "execution_count": null,
      "outputs": [
        {
          "output_type": "execute_result",
          "data": {
            "text/plain": [
              "(2290, 6)"
            ]
          },
          "metadata": {},
          "execution_count": 7
        }
      ]
    },
    {
      "cell_type": "code",
      "metadata": {
        "id": "x1eNGDeIWFHV",
        "colab": {
          "base_uri": "https://localhost:8080/"
        },
        "outputId": "5cd0b873-1f47-4d5d-eea5-11d08d8c7493"
      },
      "source": [
        "gold_data.isnull().sum()"
      ],
      "execution_count": null,
      "outputs": [
        {
          "output_type": "execute_result",
          "data": {
            "text/plain": [
              "Date       0\n",
              "SPX        0\n",
              "GLD        0\n",
              "USO        0\n",
              "SLV        0\n",
              "EUR/USD    0\n",
              "dtype: int64"
            ]
          },
          "metadata": {},
          "execution_count": 8
        }
      ]
    },
    {
      "cell_type": "code",
      "metadata": {
        "id": "O8avzu7KWPSw",
        "colab": {
          "base_uri": "https://localhost:8080/",
          "height": 297
        },
        "outputId": "b66f6c18-e26c-47ab-ab3c-24df684b36dd"
      },
      "source": [
        "gold_data.describe()"
      ],
      "execution_count": null,
      "outputs": [
        {
          "output_type": "execute_result",
          "data": {
            "text/html": [
              "<div>\n",
              "<style scoped>\n",
              "    .dataframe tbody tr th:only-of-type {\n",
              "        vertical-align: middle;\n",
              "    }\n",
              "\n",
              "    .dataframe tbody tr th {\n",
              "        vertical-align: top;\n",
              "    }\n",
              "\n",
              "    .dataframe thead th {\n",
              "        text-align: right;\n",
              "    }\n",
              "</style>\n",
              "<table border=\"1\" class=\"dataframe\">\n",
              "  <thead>\n",
              "    <tr style=\"text-align: right;\">\n",
              "      <th></th>\n",
              "      <th>SPX</th>\n",
              "      <th>GLD</th>\n",
              "      <th>USO</th>\n",
              "      <th>SLV</th>\n",
              "      <th>EUR/USD</th>\n",
              "    </tr>\n",
              "  </thead>\n",
              "  <tbody>\n",
              "    <tr>\n",
              "      <th>count</th>\n",
              "      <td>2290.000000</td>\n",
              "      <td>2290.000000</td>\n",
              "      <td>2290.000000</td>\n",
              "      <td>2290.000000</td>\n",
              "      <td>2290.000000</td>\n",
              "    </tr>\n",
              "    <tr>\n",
              "      <th>mean</th>\n",
              "      <td>1654.315776</td>\n",
              "      <td>122.732875</td>\n",
              "      <td>31.842221</td>\n",
              "      <td>20.084997</td>\n",
              "      <td>1.283653</td>\n",
              "    </tr>\n",
              "    <tr>\n",
              "      <th>std</th>\n",
              "      <td>519.111540</td>\n",
              "      <td>23.283346</td>\n",
              "      <td>19.523517</td>\n",
              "      <td>7.092566</td>\n",
              "      <td>0.131547</td>\n",
              "    </tr>\n",
              "    <tr>\n",
              "      <th>min</th>\n",
              "      <td>676.530029</td>\n",
              "      <td>70.000000</td>\n",
              "      <td>7.960000</td>\n",
              "      <td>8.850000</td>\n",
              "      <td>1.039047</td>\n",
              "    </tr>\n",
              "    <tr>\n",
              "      <th>25%</th>\n",
              "      <td>1239.874969</td>\n",
              "      <td>109.725000</td>\n",
              "      <td>14.380000</td>\n",
              "      <td>15.570000</td>\n",
              "      <td>1.171313</td>\n",
              "    </tr>\n",
              "    <tr>\n",
              "      <th>50%</th>\n",
              "      <td>1551.434998</td>\n",
              "      <td>120.580002</td>\n",
              "      <td>33.869999</td>\n",
              "      <td>17.268500</td>\n",
              "      <td>1.303296</td>\n",
              "    </tr>\n",
              "    <tr>\n",
              "      <th>75%</th>\n",
              "      <td>2073.010070</td>\n",
              "      <td>132.840004</td>\n",
              "      <td>37.827501</td>\n",
              "      <td>22.882499</td>\n",
              "      <td>1.369971</td>\n",
              "    </tr>\n",
              "    <tr>\n",
              "      <th>max</th>\n",
              "      <td>2872.870117</td>\n",
              "      <td>184.589996</td>\n",
              "      <td>117.480003</td>\n",
              "      <td>47.259998</td>\n",
              "      <td>1.598798</td>\n",
              "    </tr>\n",
              "  </tbody>\n",
              "</table>\n",
              "</div>"
            ],
            "text/plain": [
              "               SPX          GLD          USO          SLV      EUR/USD\n",
              "count  2290.000000  2290.000000  2290.000000  2290.000000  2290.000000\n",
              "mean   1654.315776   122.732875    31.842221    20.084997     1.283653\n",
              "std     519.111540    23.283346    19.523517     7.092566     0.131547\n",
              "min     676.530029    70.000000     7.960000     8.850000     1.039047\n",
              "25%    1239.874969   109.725000    14.380000    15.570000     1.171313\n",
              "50%    1551.434998   120.580002    33.869999    17.268500     1.303296\n",
              "75%    2073.010070   132.840004    37.827501    22.882499     1.369971\n",
              "max    2872.870117   184.589996   117.480003    47.259998     1.598798"
            ]
          },
          "metadata": {},
          "execution_count": 9
        }
      ]
    },
    {
      "cell_type": "markdown",
      "metadata": {
        "id": "c1kEYZm9WUm4"
      },
      "source": [
        "##**Correlation:**"
      ]
    },
    {
      "cell_type": "code",
      "metadata": {
        "id": "iDWl-TYxWbY1"
      },
      "source": [
        "correlation = gold_data.corr()"
      ],
      "execution_count": null,
      "outputs": []
    },
    {
      "cell_type": "code",
      "metadata": {
        "id": "Zp0iiicXWg0k",
        "colab": {
          "base_uri": "https://localhost:8080/",
          "height": 487
        },
        "outputId": "040350b8-a168-4ce1-c471-22f7599121e5"
      },
      "source": [
        "plt.figure(figsize = (8,8))\n",
        "sns.heatmap(correlation, cbar=True, square=True, fmt='.1f',annot=True, annot_kws={'size':8}, cmap='Blues')"
      ],
      "execution_count": null,
      "outputs": [
        {
          "output_type": "execute_result",
          "data": {
            "text/plain": [
              "<matplotlib.axes._subplots.AxesSubplot at 0x7f2359c89f10>"
            ]
          },
          "metadata": {},
          "execution_count": 11
        },
        {
          "output_type": "display_data",
          "data": {
            "image/png": "[encoded data removed]",
            "text/plain": [
              "<Figure size 576x576 with 2 Axes>"
            ]
          },
          "metadata": {
            "needs_background": "light"
          }
        }
      ]
    },
    {
      "cell_type": "code",
      "metadata": {
        "id": "6346aN6AWpoq",
        "colab": {
          "base_uri": "https://localhost:8080/"
        },
        "outputId": "d34b84b5-6546-47d3-cc26-6c79df92bf1e"
      },
      "source": [
        "print(correlation['GLD'])"
      ],
      "execution_count": null,
      "outputs": [
        {
          "output_type": "stream",
          "name": "stdout",
          "text": [
            "SPX        0.049345\n",
            "GLD        1.000000\n",
            "USO       -0.186360\n",
            "SLV        0.866632\n",
            "EUR/USD   -0.024375\n",
            "Name: GLD, dtype: float64\n"
          ]
        }
      ]
    },
    {
      "cell_type": "code",
      "metadata": {
        "id": "IpjXNWFRWvI_",
        "colab": {
          "base_uri": "https://localhost:8080/",
          "height": 354
        },
        "outputId": "33794c42-4b93-4614-ca49-7c7b35220328"
      },
      "source": [
        "sns.distplot(gold_data['GLD'],color='green')"
      ],
      "execution_count": null,
      "outputs": [
        {
          "output_type": "stream",
          "name": "stderr",
          "text": [
            "/usr/local/lib/python3.7/dist-packages/seaborn/distributions.py:2619: FutureWarning: `distplot` is a deprecated function and will be removed in a future version. Please adapt your code to use either `displot` (a figure-level function with similar flexibility) or `histplot` (an axes-level function for histograms).\n",
            "  warnings.warn(msg, FutureWarning)\n"
          ]
        },
        {
          "output_type": "execute_result",
          "data": {
            "text/plain": [
              "<matplotlib.axes._subplots.AxesSubplot at 0x7f235161ab50>"
            ]
          },
          "metadata": {},
          "execution_count": 13
        },
        {
          "output_type": "display_data",
          "data": {
            "image/png": "[encoded data removed]",
            "text/plain": [
              "<Figure size 432x288 with 1 Axes>"
            ]
          },
          "metadata": {
            "needs_background": "light"
          }
        }
      ]
    },
    {
      "cell_type": "markdown",
      "metadata": {
        "id": "I9V-M5UqXHcL"
      },
      "source": [
        "##**Splitting the Features and Target**"
      ]
    },
    {
      "cell_type": "code",
      "metadata": {
        "id": "-asEugy3Wxih"
      },
      "source": [
        "X = gold_data.drop(['Date','GLD'],axis=1)\n",
        "Y = gold_data['GLD']"
      ],
      "execution_count": null,
      "outputs": []
    },
    {
      "cell_type": "code",
      "metadata": {
        "id": "GTsknQpaXoZf",
        "colab": {
          "base_uri": "https://localhost:8080/"
        },
        "outputId": "2d1a2b8d-c4bd-4ab4-824b-9080dc58d067"
      },
      "source": [
        "print(X)"
      ],
      "execution_count": null,
      "outputs": [
        {
          "output_type": "stream",
          "name": "stdout",
          "text": [
            "              SPX        USO      SLV   EUR/USD\n",
            "0     1447.160034  78.470001  15.1800  1.471692\n",
            "1     1447.160034  78.370003  15.2850  1.474491\n",
            "2     1411.630005  77.309998  15.1670  1.475492\n",
            "3     1416.180054  75.500000  15.0530  1.468299\n",
            "4     1390.189941  76.059998  15.5900  1.557099\n",
            "...           ...        ...      ...       ...\n",
            "2285  2671.919922  14.060000  15.5100  1.186789\n",
            "2286  2697.790039  14.370000  15.5300  1.184722\n",
            "2287  2723.070068  14.410000  15.7400  1.191753\n",
            "2288  2730.129883  14.380000  15.5600  1.193118\n",
            "2289  2725.780029  14.405800  15.4542  1.182033\n",
            "\n",
            "[2290 rows x 4 columns]\n"
          ]
        }
      ]
    },
    {
      "cell_type": "code",
      "metadata": {
        "id": "jgHsmQTOXqO4",
        "colab": {
          "base_uri": "https://localhost:8080/"
        },
        "outputId": "dd0d750d-f40f-4135-eabb-144628d2c045"
      },
      "source": [
        "print(X)"
      ],
      "execution_count": null,
      "outputs": [
        {
          "output_type": "stream",
          "name": "stdout",
          "text": [
            "              SPX        USO      SLV   EUR/USD\n",
            "0     1447.160034  78.470001  15.1800  1.471692\n",
            "1     1447.160034  78.370003  15.2850  1.474491\n",
            "2     1411.630005  77.309998  15.1670  1.475492\n",
            "3     1416.180054  75.500000  15.0530  1.468299\n",
            "4     1390.189941  76.059998  15.5900  1.557099\n",
            "...           ...        ...      ...       ...\n",
            "2285  2671.919922  14.060000  15.5100  1.186789\n",
            "2286  2697.790039  14.370000  15.5300  1.184722\n",
            "2287  2723.070068  14.410000  15.7400  1.191753\n",
            "2288  2730.129883  14.380000  15.5600  1.193118\n",
            "2289  2725.780029  14.405800  15.4542  1.182033\n",
            "\n",
            "[2290 rows x 4 columns]\n"
          ]
        }
      ]
    },
    {
      "cell_type": "markdown",
      "metadata": {
        "id": "xPEVQX7EXyAr"
      },
      "source": [
        "##**Splitting into Training data and Test Data**"
      ]
    },
    {
      "cell_type": "code",
      "metadata": {
        "id": "hbDZbEwIX1wg"
      },
      "source": [
        "X_train, X_test, Y_train, Y_test = train_test_split(X, Y, test_size = 0.2, random_state=2)"
      ],
      "execution_count": null,
      "outputs": []
    },
    {
      "cell_type": "markdown",
      "metadata": {
        "id": "dBFhN_RYYQhv"
      },
      "source": [
        "##**Model Training:Random Forest Regressor** "
      ]
    },
    {
      "cell_type": "code",
      "metadata": {
        "id": "0hgvzw37YN6t"
      },
      "source": [
        "regressor = RandomForestRegressor(n_estimators=100)"
      ],
      "execution_count": null,
      "outputs": []
    },
    {
      "cell_type": "code",
      "metadata": {
        "colab": {
          "base_uri": "https://localhost:8080/"
        },
        "id": "Ct2F1HfWjW_7",
        "outputId": "a3352efd-83e7-40b4-cabf-ad3b1d40ceaf"
      },
      "source": [
        "regressor.fit(X_train,Y_train)"
      ],
      "execution_count": null,
      "outputs": [
        {
          "output_type": "execute_result",
          "data": {
            "text/plain": [
              "RandomForestRegressor(bootstrap=True, ccp_alpha=0.0, criterion='mse',\n",
              "                      max_depth=None, max_features='auto', max_leaf_nodes=None,\n",
              "                      max_samples=None, min_impurity_decrease=0.0,\n",
              "                      min_impurity_split=None, min_samples_leaf=1,\n",
              "                      min_samples_split=2, min_weight_fraction_leaf=0.0,\n",
              "                      n_estimators=100, n_jobs=None, oob_score=False,\n",
              "                      random_state=None, verbose=0, warm_start=False)"
            ]
          },
          "metadata": {},
          "execution_count": 21
        }
      ]
    },
    {
      "cell_type": "markdown",
      "metadata": {
        "id": "YBjK6NMBq51x"
      },
      "source": [
        "##**Model Evaluation**"
      ]
    },
    {
      "cell_type": "code",
      "metadata": {
        "id": "vmK1kf--q-7H"
      },
      "source": [
        "test_data_prediction = regressor.predict(X_test)"
      ],
      "execution_count": null,
      "outputs": []
    },
    {
      "cell_type": "code",
      "metadata": {
        "colab": {
          "base_uri": "https://localhost:8080/"
        },
        "id": "mE6LU59lrCPv",
        "outputId": "0f386b55-e1ce-4da6-8466-2e28b39cbe06"
      },
      "source": [
        "print(test_data_prediction)"
      ],
      "execution_count": null,
      "outputs": [
        {
          "output_type": "stream",
          "name": "stdout",
          "text": [
            "[168.70319989  81.91299985 115.88459999 127.52980055 120.64410114\n",
            " 154.69029749 150.00009853 126.24730042 117.4886986  125.92960102\n",
            " 116.58280131 171.82750045 141.19949865 167.71379847 115.45469984\n",
            " 117.47290056 141.75290302 170.29970071 159.80320274 158.23529884\n",
            " 154.98580025 124.66320025 176.18389964 157.14530381 125.19610023\n",
            "  93.7326998   77.38360031 120.49860024 119.12579952 167.56139955\n",
            "  88.03100026 125.04760007  91.10800099 117.78150003 121.07919883\n",
            " 136.14840063 115.51170153 115.16900071 147.48449906 107.28180091\n",
            " 104.1219021   87.04829781 126.44990108 118.1393999  153.24399932\n",
            " 119.66860014 108.47479967 108.19449876  93.17600016 127.14849774\n",
            "  75.00260039 113.56579965 121.25759975 111.3774991  118.85929903\n",
            " 121.03659937 160.14739953 169.57210113 146.73169691  85.91669876\n",
            "  94.31020041  86.86579879  90.56260056 119.04040089 126.40060074\n",
            " 127.65840006 168.81399987 122.29379946 117.38789888  98.74930019\n",
            " 168.07050143 143.25719748 131.83590202 121.16880246 121.17069922\n",
            " 119.58150062 114.4963019  118.56750062 107.11160093 127.94400032\n",
            " 114.0129999  107.20470008 116.56070052 119.61249889  89.32500028\n",
            "  88.29729885 146.83850263 127.30400001 113.53690023 110.52279837\n",
            " 108.09229897  77.21909883 170.29370219 114.06079892 121.6327992\n",
            " 128.14730151 154.96469816  91.63109914 136.34510097 158.49520303\n",
            " 125.83230071 125.2349006  130.51010182 114.94280162 119.81599965\n",
            "  92.06929976 110.53519876 167.96389962 155.9485991  114.21479931\n",
            " 106.52040116  79.75389972 113.1100004  125.88540086 107.36209913\n",
            " 119.45380114 155.28670232 159.36479971 120.44330011 134.47940382\n",
            " 101.52389984 117.46799787 119.20150038 112.90550079 102.77989883\n",
            " 160.07679827  99.06250066 146.29139865 125.63970069 170.04449922\n",
            " 125.58609884 127.35539733 127.18670085 113.69229941 113.15820069\n",
            " 123.58129897 102.1311988   89.02309988 124.70569952 101.88979949\n",
            " 107.31919905 113.22640079 117.45580079  99.23649948 121.68570063\n",
            " 163.31219882  87.49689875 106.43239976 117.24810087 127.77260097\n",
            " 124.03370079  80.8035988  120.40250081 158.54459822  87.78959924\n",
            " 110.26039962 118.91989916 172.11109836 102.9570988  105.77220033\n",
            " 122.50910035 158.6999978   87.76109838  93.14080079 112.53020008\n",
            " 177.15449941 114.63779962 119.11510023  94.94370102 125.70830043\n",
            " 165.88840087 114.84700103 116.85780116  88.34669883 148.7761009\n",
            " 120.38829932  89.54249932 111.96799972 117.34790077 118.77820112\n",
            "  88.56690004  94.09139973 116.75240021 118.37730177 120.27909985\n",
            " 126.57159869 121.97609981 149.86400051 164.90470102 118.52449982\n",
            " 120.37790172 150.36280032 118.39569907 172.26409875 105.68569928\n",
            " 105.17740111 149.84060104 113.93620058 124.77460103 147.57979951\n",
            " 119.51150125 115.1999005  112.32319979 113.61860199 142.79360087\n",
            " 117.80259765 102.91700049 115.815701   103.45920177  99.02630052\n",
            " 117.28990074  90.68229975  91.68230029 153.53279916 102.68119962\n",
            " 154.25200069 114.4894017  138.24620115  90.19759812 115.51209964\n",
            " 114.76939951 123.07750008 121.88990012 165.56960158  92.95019946\n",
            " 135.59470201 121.30179938 120.95720052 104.6613003  143.99480235\n",
            " 121.69059918 116.67950048 113.53330084 127.26609693 122.78739929\n",
            " 125.78959951 121.12330054  86.91639916 132.33750145 145.52220197\n",
            "  92.73539949 161.53609983 158.70800265 126.38429874 165.21680036\n",
            " 108.80779962 110.19940072 103.73519843  94.30130056 127.83700294\n",
            " 107.25260019 163.47419963 121.69840051 132.16420077 130.51330129\n",
            " 160.78729898  90.1140984  175.25040213 127.84480002 126.59739903\n",
            "  86.68689946 124.53169911 150.51079753  89.78859981 106.88669961\n",
            " 108.93469976  84.36669932 136.20159999 154.975202   139.54510321\n",
            "  73.67720062 151.42590107 126.32619967 126.75440009 127.49689895\n",
            " 108.68409913 156.31390037 114.57100105 116.99710121 124.92959927\n",
            " 154.05120081 121.28589979 156.32269885  92.97120052 125.43040104\n",
            " 125.85290087  87.78360032  92.29989919 126.07510033 128.28670341\n",
            " 113.12580085 117.73669735 121.15549968 127.1843979  119.84560139\n",
            " 136.63060032  93.98809943 119.60830066 113.4548008   94.17989941\n",
            " 108.89799973  88.42919924 109.10339905  89.68549992  92.43930045\n",
            " 131.79380294 162.62660073  89.23710013 119.68420113 133.21670182\n",
            " 123.78400048 128.10750168 101.88569832  88.98429893 131.29310127\n",
            " 119.91850064 109.01619986 168.69960056 115.13650052  86.66949922\n",
            " 118.78360055  90.90539974 161.41910037 116.49840049 121.36559987\n",
            " 160.17869794 120.13789911 112.65799948 108.46829844 126.52679972\n",
            "  75.79700031 103.03790003 127.79200273 121.72179925  92.63829993\n",
            " 132.71060028 118.22140139 116.39979991 154.35150273 160.07210051\n",
            " 110.1715994  154.0141972  119.27120072 160.64200152 118.21660059\n",
            " 157.71029942 115.15569919 116.45480029 149.97789889 114.7020007\n",
            " 125.29339911 165.37539947 117.53710027 125.07789937 153.51880309\n",
            " 153.45090282 132.00090143 114.78279998 121.32210202 124.96460078\n",
            "  89.80580049 123.27000008 154.47210183 111.86960045 106.44560015\n",
            " 161.74040119 118.50509945 165.51589949 133.94290147 115.22509942\n",
            " 152.98739916 168.65070021 116.26079991 114.00450135 159.73129856\n",
            "  85.2093991  127.19190009 128.00890071 128.91010051 124.23870061\n",
            " 123.80120064  90.64360109 153.16300031  97.19649967 137.31489997\n",
            "  89.16999908 106.99180013 114.88770029 112.60870115 123.99689908\n",
            "  91.40739873 125.42530137 162.73679838 119.76889833 165.18060084\n",
            " 126.50899843 112.33289986 127.62609945  94.88809902  90.90660019\n",
            " 103.17269889 120.87120001  83.16969959 126.28339999 160.66110393\n",
            " 117.454101   118.18799988 119.89039983 122.78109967 120.05520177\n",
            " 121.46899996 118.29240053 107.20559949 148.31529977 126.03169825\n",
            " 115.70780049  73.76429984 127.92070131 155.44180095 122.82870034\n",
            " 125.56050068  88.92089999 103.55699877 124.50650055 120.32970042\n",
            "  73.40300075 151.64760022 121.07580014 104.87849983  86.41689826\n",
            " 115.21799876 172.15989805 119.93780065 159.09709798 113.17649942\n",
            " 121.21730034 118.67150123  95.96949987 118.8389001  125.87780058\n",
            " 118.49389965  96.05510072 153.87160209 121.86849979 147.6404997\n",
            " 159.09620213 113.92180014 122.57069932 150.02799797 126.74230013\n",
            " 165.60050111 135.39550056 120.15359952 167.04809867 108.3985995\n",
            " 121.57269878 139.69600104 106.58979896]\n"
          ]
        }
      ]
    },
    {
      "cell_type": "code",
      "metadata": {
        "colab": {
          "base_uri": "https://localhost:8080/"
        },
        "id": "H9o7QNMSrFAw",
        "outputId": "e4a77e85-1841-4252-f45a-8efdcf47741d"
      },
      "source": [
        "error_score = metrics.r2_score(Y_test, test_data_prediction)\n",
        "print(\"R squared error : \", error_score)"
      ],
      "execution_count": null,
      "outputs": [
        {
          "output_type": "stream",
          "name": "stdout",
          "text": [
            "R squared error :  0.9884067194657644\n"
          ]
        }
      ]
    },
    {
      "cell_type": "markdown",
      "metadata": {
        "id": "ookjWdEMrObJ"
      },
      "source": [
        "###**Compare the Actual Values and Predicted Values in a Plot**"
      ]
    },
    {
      "cell_type": "code",
      "metadata": {
        "id": "-rNF1gCwrK2f"
      },
      "source": [
        "Y_test = list(Y_test)"
      ],
      "execution_count": null,
      "outputs": []
    },
    {
      "cell_type": "code",
      "metadata": {
        "colab": {
          "base_uri": "https://localhost:8080/",
          "height": 295
        },
        "id": "DVTmvpDrrV91",
        "outputId": "7e0f5f83-955c-4c98-84c7-864499ef3f47"
      },
      "source": [
        "plt.plot(Y_test, color='blue', label = 'Actual Value')\n",
        "plt.plot(test_data_prediction, color='green', label='Predicted Value')\n",
        "plt.title('Actual Price vs Predicted Price')\n",
        "plt.xlabel('Number of values')\n",
        "plt.ylabel('GLD Price')\n",
        "plt.legend()\n",
        "plt.show()"
      ],
      "execution_count": null,
      "outputs": [
        {
          "output_type": "display_data",
          "data": {
            "image/png": "[encoded data removed]",
            "text/plain": [
              "<Figure size 432x288 with 1 Axes>"
            ]
          },
          "metadata": {
            "needs_background": "light"
          }
        }
      ]
    },
    {
      "cell_type": "code",
      "metadata": {
        "id": "EkpgVD23rX8C"
      },
      "source": [
        ""
      ],
      "execution_count": null,
      "outputs": []
    }
  ]
}